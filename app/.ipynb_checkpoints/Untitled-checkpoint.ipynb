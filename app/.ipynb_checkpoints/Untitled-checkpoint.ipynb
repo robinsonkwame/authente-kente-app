{
 "cells": [
  {
   "cell_type": "code",
   "execution_count": null,
   "metadata": {},
   "outputs": [],
   "source": [
    "# USAGE\n",
    "# python extract_features.py\n",
    "\n",
    "# import the necessary packages\n",
    "from sklearn.preprocessing import LabelEncoder\n",
    "from keras.applications import ResNet50, MobileNetV2\n",
    "from keras.applications import imagenet_utils\n",
    "from keras.preprocessing.image import img_to_array\n",
    "from keras.preprocessing.image import load_img\n",
    "from pyimagesearch import config\n",
    "#from imutils import paths\n",
    "from pathlib import Path\n",
    "import numpy as np\n",
    "import cv2\n",
    "import pickle\n",
    "import random\n",
    "import logging\n",
    "import os\n",
    "import pdb"
   ]
  },
  {
   "cell_type": "code",
   "execution_count": null,
   "metadata": {},
   "outputs": [],
   "source": [
    "logger = logging.getLogger(__name__)\n",
    "model = ResNet50(weights=\"imagenet\", include_top=False)\n",
    "mobile_model = MobileNetV2(weights=\"imagenet\", include_top=False, input_shape=(224, 224, 3))\n",
    "mobilenet_flattened_size = 7 * 7 * 1280\n",
    "flattened_size = 7 * 7 * 2048\n",
    "hsv_flattened_size = 224 * 224 * 3"
   ]
  },
  {
   "cell_type": "code",
   "execution_count": 3,
   "metadata": {},
   "outputs": [],
   "source": [
    "image = 'fake_001_11.jpg'"
   ]
  },
  {
   "cell_type": "code",
   "execution_count": 4,
   "metadata": {},
   "outputs": [],
   "source": [
    "le = None\n",
    "random.seed(1)"
   ]
  },
  {
   "cell_type": "code",
   "execution_count": 9,
   "metadata": {},
   "outputs": [
    {
     "name": "stdout",
     "output_type": "stream",
     "text": [
      "[INFO] processing 'training split'...\n",
      "[INFO] processing 'evaluation split'...\n",
      "[INFO] processing 'validation split'...\n"
     ]
    },
    {
     "data": {
      "text/plain": [
       "array([], shape=(0, 100353), dtype=float64)"
      ]
     },
     "execution_count": 9,
     "metadata": {},
     "output_type": "execute_result"
    }
   ],
   "source": [
    " for split in (config.TRAIN, config.TEST, config.VAL):\n",
    "\t# grab all image paths in the current split\n",
    "\tprint(\"[INFO] processing '{} split'...\".format(split))\n",
    "\tp = os.path.sep.join([config.BASE_PATH, split])\n",
    "\t#imagePaths = list(paths.list_images(p))\n",
    "\t#imagePaths = list(Path(p).glob(\"*/*.jpg\")) # for 5k\n",
    "\timagePaths = list(Path(p).glob(\"*.jpg\")) # for Kente\n",
    "    \t# labels from the file paths\n",
    "\trandom.shuffle(imagePaths)\n",
    "\t#labels = [str(p).split(os.path.sep)[-2] for p in imagePaths]\n",
    "\t#  for Kente we need to do things slightly differently\n",
    "\tlabels = [p.name.split('_',1)[0] for p in imagePaths]\n",
    "\n",
    "\t# if the label encoder is None, create it\n",
    "\tif le is None:\n",
    "\t\tle = LabelEncoder()\n",
    "\t\t# le.fit(labels)\n",
    "\t\t#  the above assumes all label types are present but\n",
    "\t\t# in training they aren't\n",
    "\t\tle.fit(['fake','real'])\n",
    "\n",
    "\t# open the output CSV file for writing\n",
    "\tcsvPath = os.path.sep.join([config.BASE_CSV_PATH,\n",
    "\t\t\"{}.csv\".format(split)])\n",
    "\tnpPath = Path(\n",
    "\t\tos.path.sep.join([config.BASE_CSV_PATH,\n",
    "\t\t\"{}.npy\".format(split)])\n",
    "\t\t)\n",
    "\tnpPathHSV = Path(\n",
    "\t\tos.path.sep.join([config.BASE_CSV_PATH,\n",
    "\t\t\"{}.hsv.npy\".format(split)])\n",
    "\t\t)\n",
    "\tmobilenetPath = Path(\n",
    "\t\tos.path.sep.join([config.BASE_CSV_PATH,\n",
    "\t\t\"{}.mobile.npy\".format(split)])\n",
    "\t\t)\n",
    "\tif config.EXTRACT_FEATURES_TO_CSV:\n",
    "\t\tcsv = open(csvPath, \"w\")\n",
    "\n",
    "\tif config.EXTRACT_FEATURES_TO_NPY:\n",
    "\t\tif npPath.exists():\n",
    "\t\t\tprint(f\"[INFO] ... deleting old data for {split}\")\n",
    "\t\t\tnpPath.unlink()\n",
    "\t\tfeature_array = np.zeros(\n",
    "\t\t\t(\n",
    "\t\t\t\tlen(labels),\n",
    "\t\t\t\tflattened_size + 1\n",
    "\t\t\t)  # +1 for labels\n",
    "\t\t)\n",
    "    if config.EXTRACT_MOBILENET_FEATURES:\n",
    "\t\tif mobilenetPath.exists():\n",
    "\t\t\tprint(f\"[INFO] ... deleting old MOBILENET data for {split}\")\n",
    "\t\t\tnpPath.unlink()\n",
    "\t\tfeature_array = np.zeros(\n",
    "\t\t\t(\n",
    "\t\t\t\tlen(labels),\n",
    "\t\t\t\tmobilenet_flattened_size + 1\n",
    "\t\t\t)  # +1 for labels\n",
    "\t\t)\n",
    "\n",
    "\tif config.EXTRACT_AS_HSV:\n",
    "\t\tif npPathHSV.exists():\n",
    "\t\t\tprint(f\"[INFO] ... deleting old hsv data for {split}\")\n",
    "\t\t\tnpPathHSV.unlink()\n",
    "\t\tfeature_array = np.zeros(\n",
    "\t\t\t(\n",
    "\t\t\t\tlen(labels),\n",
    "\t\t\t\thsv_flattened_size + 1\n",
    "\t\t\t)  # +1 for labels\n",
    "\t\t)\n",
    "\n",
    "\t# loop over the images in batches\n",
    "\tfor (b, i) in enumerate(range(0, len(imagePaths), config.BATCH_SIZE)):\n",
    "        print(b, i)\n",
    "        print (range(0, len(imagePaths), config.BATCH_SIZE))\n",
    "\t\t# extract the batch of images and labels, then initialize the\n",
    "\t\t# list of actual images that will be passed through the network\n",
    "\t\t# for feature extraction\n",
    "\t\tprint(\"[INFO] processing batch {}/{}\".format(b + 1,\n",
    "\t\t\tint(np.ceil(len(imagePaths) / float(config.BATCH_SIZE)))))\n",
    "\t\tprint(\"[INFO] label encoding from path ...\")\n",
    "\t\tbatchPaths = imagePaths[i: i + config.BATCH_SIZE]\n",
    "\t\tbatchLabels = le.transform(labels[i: i + config.BATCH_SIZE])\n",
    "\t\tbatchImages = []\n",
    "\t\tprint(\"[INFO] ... label encoded!\")\n",
    "\n"
   ]
  },
  {
   "cell_type": "code",
   "execution_count": null,
   "metadata": {},
   "outputs": [],
   "source": []
  }
 ],
 "metadata": {
  "kernelspec": {
   "display_name": "Python 3",
   "language": "python",
   "name": "python3"
  },
  "language_info": {
   "codemirror_mode": {
    "name": "ipython",
    "version": 3
   },
   "file_extension": ".py",
   "mimetype": "text/x-python",
   "name": "python",
   "nbconvert_exporter": "python",
   "pygments_lexer": "ipython3",
   "version": "3.7.7"
  }
 },
 "nbformat": 4,
 "nbformat_minor": 4
}
